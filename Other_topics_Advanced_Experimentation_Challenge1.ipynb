{
  "nbformat": 4,
  "nbformat_minor": 0,
  "metadata": {
    "colab": {
      "name": "Other topics: Advanced Experimentation Challenge1.ipynb",
      "provenance": [],
      "collapsed_sections": [],
      "authorship_tag": "ABX9TyPAdFhHXwNVyhrHaYW9xMJd",
      "include_colab_link": true
    },
    "kernelspec": {
      "name": "python3",
      "display_name": "Python 3"
    }
  },
  "cells": [
    {
      "cell_type": "markdown",
      "metadata": {
        "id": "view-in-github",
        "colab_type": "text"
      },
      "source": [
        "<a href=\"https://colab.research.google.com/github/mouax209/data-201-resources/blob/master/Other_topics_Advanced_Experimentation_Challenge1.ipynb\" target=\"_parent\"><img src=\"https://colab.research.google.com/assets/colab-badge.svg\" alt=\"Open In Colab\"/></a>"
      ]
    },
    {
      "cell_type": "markdown",
      "metadata": {
        "id": "rN6_VgHRMW8I",
        "colab_type": "text"
      },
      "source": [
        "**What to use?**\n",
        "\n",
        "1) Did people become less trusting from 2012 to 2014? Compute results for each country in the sample.\n",
        "\n",
        "* T-test for paired samples\n",
        "\n",
        "2) Did people become happier from 2012 to 2014? Compute results for each country in the sample.\n",
        "\n",
        "* T-test for paired samples\n",
        "\n",
        "\n",
        "3) Who reported watching more TV in 2012, men or women?\n",
        "\n",
        "* T-test for independent samples\n",
        "\n",
        "4) Who was more likely to believe people were fair in 2012, people living with a partner or people living alone?\n",
        "\n",
        "* T-test for independent samples\n",
        "\n",
        "5) Pick three or four of the countries in the sample and compare how often people met socially in 2014. Are there differences, and if so, which countries stand out?\n",
        "\n",
        "* One-way ANOVA\n",
        "\n",
        "6) Pick three or four of the countries in the sample and compare how often people took part in social activities, relative to others their age, in 2014. Are there differences, and if so, which countries stand out?\n",
        "\n",
        "* One-way ANOVA"
      ]
    },
    {
      "cell_type": "markdown",
      "metadata": {
        "id": "9Xxd6Ft9NZSq",
        "colab_type": "text"
      },
      "source": [
        ""
      ]
    },
    {
      "cell_type": "markdown",
      "metadata": {
        "id": "S02gVdeRNa9n",
        "colab_type": "text"
      },
      "source": [
        ""
      ]
    },
    {
      "cell_type": "code",
      "metadata": {
        "id": "wrT4-pfNNbMX",
        "colab_type": "code",
        "colab": {}
      },
      "source": [
        "import pandas as pd\n",
        "import numpy as np\n",
        "import matplotlib.pyplot as plt\n",
        "import scipy.stats as stats\n",
        "%matplotlib inline"
      ],
      "execution_count": 0,
      "outputs": []
    },
    {
      "cell_type": "code",
      "metadata": {
        "id": "Ku9_Nf0KNdvH",
        "colab_type": "code",
        "outputId": "6400d563-6844-4348-e462-68c1e6c9a8a6",
        "colab": {
          "base_uri": "https://localhost:8080/",
          "height": 439
        }
      },
      "source": [
        "df = pd.read_csv(\"https://raw.githubusercontent.com/Thinkful-Ed/data-201-resources/master/ESS_practice_data/ESSdata_Thinkful.csv\")\n",
        "df"
      ],
      "execution_count": 2,
      "outputs": [
        {
          "output_type": "execute_result",
          "data": {
            "text/html": [
              "<div>\n",
              "<style scoped>\n",
              "    .dataframe tbody tr th:only-of-type {\n",
              "        vertical-align: middle;\n",
              "    }\n",
              "\n",
              "    .dataframe tbody tr th {\n",
              "        vertical-align: top;\n",
              "    }\n",
              "\n",
              "    .dataframe thead th {\n",
              "        text-align: right;\n",
              "    }\n",
              "</style>\n",
              "<table border=\"1\" class=\"dataframe\">\n",
              "  <thead>\n",
              "    <tr style=\"text-align: right;\">\n",
              "      <th></th>\n",
              "      <th>cntry</th>\n",
              "      <th>idno</th>\n",
              "      <th>year</th>\n",
              "      <th>tvtot</th>\n",
              "      <th>ppltrst</th>\n",
              "      <th>pplfair</th>\n",
              "      <th>pplhlp</th>\n",
              "      <th>happy</th>\n",
              "      <th>sclmeet</th>\n",
              "      <th>sclact</th>\n",
              "      <th>gndr</th>\n",
              "      <th>agea</th>\n",
              "      <th>partner</th>\n",
              "    </tr>\n",
              "  </thead>\n",
              "  <tbody>\n",
              "    <tr>\n",
              "      <th>0</th>\n",
              "      <td>CH</td>\n",
              "      <td>5.0</td>\n",
              "      <td>6</td>\n",
              "      <td>3.0</td>\n",
              "      <td>3.0</td>\n",
              "      <td>10.0</td>\n",
              "      <td>5.0</td>\n",
              "      <td>8.0</td>\n",
              "      <td>5.0</td>\n",
              "      <td>4.0</td>\n",
              "      <td>2.0</td>\n",
              "      <td>60.0</td>\n",
              "      <td>1.0</td>\n",
              "    </tr>\n",
              "    <tr>\n",
              "      <th>1</th>\n",
              "      <td>CH</td>\n",
              "      <td>25.0</td>\n",
              "      <td>6</td>\n",
              "      <td>6.0</td>\n",
              "      <td>5.0</td>\n",
              "      <td>7.0</td>\n",
              "      <td>5.0</td>\n",
              "      <td>9.0</td>\n",
              "      <td>3.0</td>\n",
              "      <td>2.0</td>\n",
              "      <td>2.0</td>\n",
              "      <td>59.0</td>\n",
              "      <td>1.0</td>\n",
              "    </tr>\n",
              "    <tr>\n",
              "      <th>2</th>\n",
              "      <td>CH</td>\n",
              "      <td>26.0</td>\n",
              "      <td>6</td>\n",
              "      <td>1.0</td>\n",
              "      <td>8.0</td>\n",
              "      <td>8.0</td>\n",
              "      <td>8.0</td>\n",
              "      <td>7.0</td>\n",
              "      <td>6.0</td>\n",
              "      <td>3.0</td>\n",
              "      <td>1.0</td>\n",
              "      <td>24.0</td>\n",
              "      <td>2.0</td>\n",
              "    </tr>\n",
              "    <tr>\n",
              "      <th>3</th>\n",
              "      <td>CH</td>\n",
              "      <td>28.0</td>\n",
              "      <td>6</td>\n",
              "      <td>4.0</td>\n",
              "      <td>6.0</td>\n",
              "      <td>6.0</td>\n",
              "      <td>7.0</td>\n",
              "      <td>10.0</td>\n",
              "      <td>6.0</td>\n",
              "      <td>2.0</td>\n",
              "      <td>2.0</td>\n",
              "      <td>64.0</td>\n",
              "      <td>1.0</td>\n",
              "    </tr>\n",
              "    <tr>\n",
              "      <th>4</th>\n",
              "      <td>CH</td>\n",
              "      <td>29.0</td>\n",
              "      <td>6</td>\n",
              "      <td>5.0</td>\n",
              "      <td>6.0</td>\n",
              "      <td>7.0</td>\n",
              "      <td>5.0</td>\n",
              "      <td>8.0</td>\n",
              "      <td>7.0</td>\n",
              "      <td>2.0</td>\n",
              "      <td>2.0</td>\n",
              "      <td>55.0</td>\n",
              "      <td>1.0</td>\n",
              "    </tr>\n",
              "    <tr>\n",
              "      <th>...</th>\n",
              "      <td>...</td>\n",
              "      <td>...</td>\n",
              "      <td>...</td>\n",
              "      <td>...</td>\n",
              "      <td>...</td>\n",
              "      <td>...</td>\n",
              "      <td>...</td>\n",
              "      <td>...</td>\n",
              "      <td>...</td>\n",
              "      <td>...</td>\n",
              "      <td>...</td>\n",
              "      <td>...</td>\n",
              "      <td>...</td>\n",
              "    </tr>\n",
              "    <tr>\n",
              "      <th>8589</th>\n",
              "      <td>SE</td>\n",
              "      <td>3729.0</td>\n",
              "      <td>7</td>\n",
              "      <td>3.0</td>\n",
              "      <td>4.0</td>\n",
              "      <td>5.0</td>\n",
              "      <td>3.0</td>\n",
              "      <td>6.0</td>\n",
              "      <td>6.0</td>\n",
              "      <td>2.0</td>\n",
              "      <td>1.0</td>\n",
              "      <td>18.0</td>\n",
              "      <td>2.0</td>\n",
              "    </tr>\n",
              "    <tr>\n",
              "      <th>8590</th>\n",
              "      <td>SE</td>\n",
              "      <td>3732.0</td>\n",
              "      <td>7</td>\n",
              "      <td>5.0</td>\n",
              "      <td>6.0</td>\n",
              "      <td>4.0</td>\n",
              "      <td>4.0</td>\n",
              "      <td>10.0</td>\n",
              "      <td>6.0</td>\n",
              "      <td>3.0</td>\n",
              "      <td>1.0</td>\n",
              "      <td>15.0</td>\n",
              "      <td>2.0</td>\n",
              "    </tr>\n",
              "    <tr>\n",
              "      <th>8591</th>\n",
              "      <td>SE</td>\n",
              "      <td>3743.0</td>\n",
              "      <td>7</td>\n",
              "      <td>4.0</td>\n",
              "      <td>5.0</td>\n",
              "      <td>7.0</td>\n",
              "      <td>6.0</td>\n",
              "      <td>8.0</td>\n",
              "      <td>6.0</td>\n",
              "      <td>3.0</td>\n",
              "      <td>1.0</td>\n",
              "      <td>44.0</td>\n",
              "      <td>2.0</td>\n",
              "    </tr>\n",
              "    <tr>\n",
              "      <th>8592</th>\n",
              "      <td>SE</td>\n",
              "      <td>3744.0</td>\n",
              "      <td>7</td>\n",
              "      <td>5.0</td>\n",
              "      <td>8.0</td>\n",
              "      <td>8.0</td>\n",
              "      <td>6.0</td>\n",
              "      <td>9.0</td>\n",
              "      <td>7.0</td>\n",
              "      <td>3.0</td>\n",
              "      <td>1.0</td>\n",
              "      <td>15.0</td>\n",
              "      <td>2.0</td>\n",
              "    </tr>\n",
              "    <tr>\n",
              "      <th>8593</th>\n",
              "      <td>SE</td>\n",
              "      <td>3746.0</td>\n",
              "      <td>7</td>\n",
              "      <td>2.0</td>\n",
              "      <td>6.0</td>\n",
              "      <td>7.0</td>\n",
              "      <td>5.0</td>\n",
              "      <td>7.0</td>\n",
              "      <td>7.0</td>\n",
              "      <td>4.0</td>\n",
              "      <td>2.0</td>\n",
              "      <td>15.0</td>\n",
              "      <td>2.0</td>\n",
              "    </tr>\n",
              "  </tbody>\n",
              "</table>\n",
              "<p>8594 rows × 13 columns</p>\n",
              "</div>"
            ],
            "text/plain": [
              "     cntry    idno  year  tvtot  ppltrst  ...  sclmeet  sclact  gndr  agea  partner\n",
              "0       CH     5.0     6    3.0      3.0  ...      5.0     4.0   2.0  60.0      1.0\n",
              "1       CH    25.0     6    6.0      5.0  ...      3.0     2.0   2.0  59.0      1.0\n",
              "2       CH    26.0     6    1.0      8.0  ...      6.0     3.0   1.0  24.0      2.0\n",
              "3       CH    28.0     6    4.0      6.0  ...      6.0     2.0   2.0  64.0      1.0\n",
              "4       CH    29.0     6    5.0      6.0  ...      7.0     2.0   2.0  55.0      1.0\n",
              "...    ...     ...   ...    ...      ...  ...      ...     ...   ...   ...      ...\n",
              "8589    SE  3729.0     7    3.0      4.0  ...      6.0     2.0   1.0  18.0      2.0\n",
              "8590    SE  3732.0     7    5.0      6.0  ...      6.0     3.0   1.0  15.0      2.0\n",
              "8591    SE  3743.0     7    4.0      5.0  ...      6.0     3.0   1.0  44.0      2.0\n",
              "8592    SE  3744.0     7    5.0      8.0  ...      7.0     3.0   1.0  15.0      2.0\n",
              "8593    SE  3746.0     7    2.0      6.0  ...      7.0     4.0   2.0  15.0      2.0\n",
              "\n",
              "[8594 rows x 13 columns]"
            ]
          },
          "metadata": {
            "tags": []
          },
          "execution_count": 2
        }
      ]
    },
    {
      "cell_type": "code",
      "metadata": {
        "id": "xShunjbANs2D",
        "colab_type": "code",
        "outputId": "ef2ae95b-edb1-4886-87b3-b76569a13c1f",
        "colab": {
          "base_uri": "https://localhost:8080/",
          "height": 68
        }
      },
      "source": [
        "df.columns"
      ],
      "execution_count": 3,
      "outputs": [
        {
          "output_type": "execute_result",
          "data": {
            "text/plain": [
              "Index(['cntry', 'idno', 'year', 'tvtot', 'ppltrst', 'pplfair', 'pplhlp',\n",
              "       'happy', 'sclmeet', 'sclact', 'gndr', 'agea', 'partner'],\n",
              "      dtype='object')"
            ]
          },
          "metadata": {
            "tags": []
          },
          "execution_count": 3
        }
      ]
    },
    {
      "cell_type": "code",
      "metadata": {
        "id": "sDcvGXJOYowd",
        "colab_type": "code",
        "colab": {}
      },
      "source": [
        "#data cleaning "
      ],
      "execution_count": 0,
      "outputs": []
    },
    {
      "cell_type": "code",
      "metadata": {
        "id": "B4Ff4So_Liu5",
        "colab_type": "code",
        "colab": {}
      },
      "source": [
        "df.dropna(how='any', inplace=True)"
      ],
      "execution_count": 0,
      "outputs": []
    },
    {
      "cell_type": "code",
      "metadata": {
        "id": "roXtSEGtNvSf",
        "colab_type": "code",
        "outputId": "5cc13c0b-4d4c-48cd-89a5-ebdd2b973247",
        "colab": {
          "base_uri": "https://localhost:8080/",
          "height": 34
        }
      },
      "source": [
        "df.cntry.unique()"
      ],
      "execution_count": 6,
      "outputs": [
        {
          "output_type": "execute_result",
          "data": {
            "text/plain": [
              "array(['CH', 'CZ', 'DE', 'ES', 'NO', 'SE'], dtype=object)"
            ]
          },
          "metadata": {
            "tags": []
          },
          "execution_count": 6
        }
      ]
    },
    {
      "cell_type": "code",
      "metadata": {
        "id": "KMW08KEotPaO",
        "colab_type": "code",
        "colab": {}
      },
      "source": [
        "#slice by country, year and find the mean of people trust variable"
      ],
      "execution_count": 0,
      "outputs": []
    },
    {
      "cell_type": "code",
      "metadata": {
        "id": "WmHtVhqXuAm-",
        "colab_type": "code",
        "outputId": "a7f5fa4d-e1a9-4fb8-b170-ada32d3dcb52",
        "colab": {
          "base_uri": "https://localhost:8080/",
          "height": 286
        }
      },
      "source": [
        "df.groupby('cntry').count()"
      ],
      "execution_count": 8,
      "outputs": [
        {
          "output_type": "execute_result",
          "data": {
            "text/html": [
              "<div>\n",
              "<style scoped>\n",
              "    .dataframe tbody tr th:only-of-type {\n",
              "        vertical-align: middle;\n",
              "    }\n",
              "\n",
              "    .dataframe tbody tr th {\n",
              "        vertical-align: top;\n",
              "    }\n",
              "\n",
              "    .dataframe thead th {\n",
              "        text-align: right;\n",
              "    }\n",
              "</style>\n",
              "<table border=\"1\" class=\"dataframe\">\n",
              "  <thead>\n",
              "    <tr style=\"text-align: right;\">\n",
              "      <th></th>\n",
              "      <th>idno</th>\n",
              "      <th>year</th>\n",
              "      <th>tvtot</th>\n",
              "      <th>ppltrst</th>\n",
              "      <th>pplfair</th>\n",
              "      <th>pplhlp</th>\n",
              "      <th>happy</th>\n",
              "      <th>sclmeet</th>\n",
              "      <th>sclact</th>\n",
              "      <th>gndr</th>\n",
              "      <th>agea</th>\n",
              "      <th>partner</th>\n",
              "    </tr>\n",
              "    <tr>\n",
              "      <th>cntry</th>\n",
              "      <th></th>\n",
              "      <th></th>\n",
              "      <th></th>\n",
              "      <th></th>\n",
              "      <th></th>\n",
              "      <th></th>\n",
              "      <th></th>\n",
              "      <th></th>\n",
              "      <th></th>\n",
              "      <th></th>\n",
              "      <th></th>\n",
              "      <th></th>\n",
              "    </tr>\n",
              "  </thead>\n",
              "  <tbody>\n",
              "    <tr>\n",
              "      <th>CH</th>\n",
              "      <td>1475</td>\n",
              "      <td>1475</td>\n",
              "      <td>1475</td>\n",
              "      <td>1475</td>\n",
              "      <td>1475</td>\n",
              "      <td>1475</td>\n",
              "      <td>1475</td>\n",
              "      <td>1475</td>\n",
              "      <td>1475</td>\n",
              "      <td>1475</td>\n",
              "      <td>1475</td>\n",
              "      <td>1475</td>\n",
              "    </tr>\n",
              "    <tr>\n",
              "      <th>CZ</th>\n",
              "      <td>1207</td>\n",
              "      <td>1207</td>\n",
              "      <td>1207</td>\n",
              "      <td>1207</td>\n",
              "      <td>1207</td>\n",
              "      <td>1207</td>\n",
              "      <td>1207</td>\n",
              "      <td>1207</td>\n",
              "      <td>1207</td>\n",
              "      <td>1207</td>\n",
              "      <td>1207</td>\n",
              "      <td>1207</td>\n",
              "    </tr>\n",
              "    <tr>\n",
              "      <th>DE</th>\n",
              "      <td>27</td>\n",
              "      <td>27</td>\n",
              "      <td>27</td>\n",
              "      <td>27</td>\n",
              "      <td>27</td>\n",
              "      <td>27</td>\n",
              "      <td>27</td>\n",
              "      <td>27</td>\n",
              "      <td>27</td>\n",
              "      <td>27</td>\n",
              "      <td>27</td>\n",
              "      <td>27</td>\n",
              "    </tr>\n",
              "    <tr>\n",
              "      <th>ES</th>\n",
              "      <td>2292</td>\n",
              "      <td>2292</td>\n",
              "      <td>2292</td>\n",
              "      <td>2292</td>\n",
              "      <td>2292</td>\n",
              "      <td>2292</td>\n",
              "      <td>2292</td>\n",
              "      <td>2292</td>\n",
              "      <td>2292</td>\n",
              "      <td>2292</td>\n",
              "      <td>2292</td>\n",
              "      <td>2292</td>\n",
              "    </tr>\n",
              "    <tr>\n",
              "      <th>NO</th>\n",
              "      <td>1420</td>\n",
              "      <td>1420</td>\n",
              "      <td>1420</td>\n",
              "      <td>1420</td>\n",
              "      <td>1420</td>\n",
              "      <td>1420</td>\n",
              "      <td>1420</td>\n",
              "      <td>1420</td>\n",
              "      <td>1420</td>\n",
              "      <td>1420</td>\n",
              "      <td>1420</td>\n",
              "      <td>1420</td>\n",
              "    </tr>\n",
              "    <tr>\n",
              "      <th>SE</th>\n",
              "      <td>1726</td>\n",
              "      <td>1726</td>\n",
              "      <td>1726</td>\n",
              "      <td>1726</td>\n",
              "      <td>1726</td>\n",
              "      <td>1726</td>\n",
              "      <td>1726</td>\n",
              "      <td>1726</td>\n",
              "      <td>1726</td>\n",
              "      <td>1726</td>\n",
              "      <td>1726</td>\n",
              "      <td>1726</td>\n",
              "    </tr>\n",
              "  </tbody>\n",
              "</table>\n",
              "</div>"
            ],
            "text/plain": [
              "       idno  year  tvtot  ppltrst  ...  sclact  gndr  agea  partner\n",
              "cntry                              ...                             \n",
              "CH     1475  1475   1475     1475  ...    1475  1475  1475     1475\n",
              "CZ     1207  1207   1207     1207  ...    1207  1207  1207     1207\n",
              "DE       27    27     27       27  ...      27    27    27       27\n",
              "ES     2292  2292   2292     2292  ...    2292  2292  2292     2292\n",
              "NO     1420  1420   1420     1420  ...    1420  1420  1420     1420\n",
              "SE     1726  1726   1726     1726  ...    1726  1726  1726     1726\n",
              "\n",
              "[6 rows x 12 columns]"
            ]
          },
          "metadata": {
            "tags": []
          },
          "execution_count": 8
        }
      ]
    },
    {
      "cell_type": "code",
      "metadata": {
        "id": "JxPX_bO0YsIP",
        "colab_type": "code",
        "colab": {}
      },
      "source": [
        "#slicing data "
      ],
      "execution_count": 0,
      "outputs": []
    },
    {
      "cell_type": "code",
      "metadata": {
        "id": "M_LZaR63ug9o",
        "colab_type": "code",
        "outputId": "db2a5757-8e6e-4f60-aed6-149d3a335b72",
        "colab": {
          "base_uri": "https://localhost:8080/",
          "height": 255
        }
      },
      "source": [
        "df.groupby(['cntry','year'])['ppltrst'].mean()"
      ],
      "execution_count": 10,
      "outputs": [
        {
          "output_type": "execute_result",
          "data": {
            "text/plain": [
              "cntry  year\n",
              "CH     6       5.685792\n",
              "       7       5.764468\n",
              "CZ     6       4.402662\n",
              "       7       4.356436\n",
              "DE     6       5.076923\n",
              "       7       5.357143\n",
              "ES     6       5.127807\n",
              "       7       4.940035\n",
              "NO     6       6.648305\n",
              "       7       6.599719\n",
              "SE     6       6.043073\n",
              "       7       6.239908\n",
              "Name: ppltrst, dtype: float64"
            ]
          },
          "metadata": {
            "tags": []
          },
          "execution_count": 10
        }
      ]
    },
    {
      "cell_type": "markdown",
      "metadata": {
        "id": "tkCWtomtYlg0",
        "colab_type": "text"
      },
      "source": [
        "1) Did people become less trusting from 2012 to 2014? Compute results for each country in the sample.\n",
        "\n",
        "* T-test for paired samples"
      ]
    },
    {
      "cell_type": "code",
      "metadata": {
        "id": "OHEqHToeyKwZ",
        "colab_type": "code",
        "colab": {}
      },
      "source": [
        "CH_ppltrst_12 = df[(df.cntry=='CH')&(df.year==6)]['ppltrst'][:732]\n",
        "CH_ppltrst_14 = df[(df.cntry=='CH')&(df.year==7)]['ppltrst'][:732]\n",
        "CZ_ppltrst_12 = df[(df.cntry=='CZ')&(df.year==6)]['ppltrst'][:601]\n",
        "CZ_ppltrst_14 = df[(df.cntry=='CZ')&(df.year==7)]['ppltrst'][:601]\n",
        "DE_ppltrst_12 = df[(df.cntry=='DE')&(df.year==6)]['ppltrst'][:13]\n",
        "DE_ppltrst_14 = df[(df.cntry=='DE')&(df.year==7)]['ppltrst'][:13]\n",
        "ES_ppltrst_12 = df[(df.cntry=='ES')&(df.year==6)]['ppltrst'][:1134]\n",
        "ES_ppltrst_14 = df[(df.cntry=='ES')&(df.year==7)]['ppltrst'][:1134]\n",
        "NO_ppltrst_12 = df[(df.cntry=='NO')&(df.year==6)]['ppltrst'][:708]\n",
        "NO_ppltrst_14 = df[(df.cntry=='NO')&(df.year==7)]['ppltrst'][:708]\n",
        "SE_ppltrst_12 = df[(df.cntry=='SE')&(df.year==6)]['ppltrst'][:859]\n",
        "SE_ppltrst_14 = df[(df.cntry=='SE')&(df.year==7)]['ppltrst'][:859]"
      ],
      "execution_count": 0,
      "outputs": []
    },
    {
      "cell_type": "code",
      "metadata": {
        "id": "jzBwUg6AmzHd",
        "colab_type": "code",
        "outputId": "b403844a-4f53-4c47-9a12-008a34b72973",
        "colab": {
          "base_uri": "https://localhost:8080/",
          "height": 119
        }
      },
      "source": [
        "print(stats.ttest_rel(CH_ppltrst_12,CH_ppltrst_14))\n",
        "print(stats.ttest_rel(DE_ppltrst_12,DE_ppltrst_14))\n",
        "print(stats.ttest_rel(CZ_ppltrst_12,CZ_ppltrst_14))\n",
        "print(stats.ttest_rel(ES_ppltrst_12,ES_ppltrst_14))\n",
        "print(stats.ttest_rel(NO_ppltrst_12,NO_ppltrst_14))\n",
        "print(stats.ttest_rel(SE_ppltrst_12,SE_ppltrst_14))"
      ],
      "execution_count": 12,
      "outputs": [
        {
          "output_type": "stream",
          "text": [
            "Ttest_relResult(statistic=-0.685503936789268, pvalue=0.4932433040188394)\n",
            "Ttest_relResult(statistic=-0.6684373647831918, pvalue=0.5165064656723359)\n",
            "Ttest_relResult(statistic=0.3309358230335794, pvalue=0.7408085007445435)\n",
            "Ttest_relResult(statistic=2.1512250255992353, pvalue=0.03166935799305661)\n",
            "Ttest_relResult(statistic=0.5462752312298897, pvalue=0.5850490996185177)\n",
            "Ttest_relResult(statistic=-2.074422015535839, pvalue=0.0383378027404032)\n"
          ],
          "name": "stdout"
        }
      ]
    },
    {
      "cell_type": "code",
      "metadata": {
        "id": "rlTVnl8k3eFx",
        "colab_type": "code",
        "colab": {}
      },
      "source": [
        "#when we reject null hypothesis we're saying there's a difference - low pvalue \n",
        "#and high t-test "
      ],
      "execution_count": 0,
      "outputs": []
    },
    {
      "cell_type": "markdown",
      "metadata": {
        "id": "fjHqZIwJhiOS",
        "colab_type": "text"
      },
      "source": [
        "People in Switzerland, Germany, Czech Republic, and Norway became less trusting from 2012 to 2014. \n"
      ]
    },
    {
      "cell_type": "markdown",
      "metadata": {
        "id": "h1NkHEiuaKnN",
        "colab_type": "text"
      },
      "source": [
        "2. Did people become happier from 2012 to 2014? Compute results for each country in the sample."
      ]
    },
    {
      "cell_type": "code",
      "metadata": {
        "id": "_heJOtxvaZyR",
        "colab_type": "code",
        "colab": {}
      },
      "source": [
        "#pplhlp\n",
        "CH_pplhlp_12 = df[(df.cntry=='CH')&(df.year==6)]['pplhlp'][:732]\n",
        "CH_pplhlp_14 = df[(df.cntry=='CH')&(df.year==7)]['pplhlp'][:732]\n",
        "CZ_pplhlp_12 = df[(df.cntry=='CZ')&(df.year==6)]['pplhlp'][:601]\n",
        "CZ_pplhlp_14 = df[(df.cntry=='CZ')&(df.year==7)]['pplhlp'][:601]\n",
        "DE_pplhlp_12 = df[(df.cntry=='DE')&(df.year==6)]['pplhlp'][:13]\n",
        "DE_pplhlp_14 = df[(df.cntry=='DE')&(df.year==7)]['pplhlp'][:13]\n",
        "ES_pplhlp_12 = df[(df.cntry=='ES')&(df.year==6)]['pplhlp'][:1134]\n",
        "ES_pplhlp_14 = df[(df.cntry=='ES')&(df.year==7)]['pplhlp'][:1134]\n",
        "NO_pplhlp_12 = df[(df.cntry=='NO')&(df.year==6)]['pplhlp'][:708]\n",
        "NO_pplhlp_14 = df[(df.cntry=='NO')&(df.year==7)]['pplhlp'][:708]\n",
        "SE_pplhlp_12 = df[(df.cntry=='SE')&(df.year==6)]['pplhlp'][:859]\n",
        "SE_pplhlp_14 = df[(df.cntry=='SE')&(df.year==7)]['pplhlp'][:859]"
      ],
      "execution_count": 0,
      "outputs": []
    },
    {
      "cell_type": "code",
      "metadata": {
        "id": "OlRjRzfVbO7B",
        "colab_type": "code",
        "outputId": "5658e266-0a5d-4aac-f786-28b928d9dc7b",
        "colab": {
          "base_uri": "https://localhost:8080/",
          "height": 119
        }
      },
      "source": [
        "print(stats.ttest_rel(CH_pplhlp_12,CH_pplhlp_14))\n",
        "print(stats.ttest_rel(DE_pplhlp_12,DE_pplhlp_14))\n",
        "print(stats.ttest_rel(CZ_pplhlp_12,CZ_pplhlp_14))\n",
        "print(stats.ttest_rel(ES_pplhlp_12,ES_pplhlp_14))\n",
        "print(stats.ttest_rel(NO_pplhlp_12,NO_pplhlp_14))\n",
        "print(stats.ttest_rel(SE_pplhlp_12,SE_pplhlp_14))"
      ],
      "execution_count": 14,
      "outputs": [
        {
          "output_type": "stream",
          "text": [
            "Ttest_relResult(statistic=0.4499177871993098, pvalue=0.6529031074159986)\n",
            "Ttest_relResult(statistic=-0.7042147167923564, pvalue=0.49473887675222583)\n",
            "Ttest_relResult(statistic=0.917127985244372, pvalue=0.35944406650345984)\n",
            "Ttest_relResult(statistic=4.323117375490558, pvalue=1.6736452372098193e-05)\n",
            "Ttest_relResult(statistic=1.0859542751397107, pvalue=0.2778693457815292)\n",
            "Ttest_relResult(statistic=-0.434124496878554, pvalue=0.6643071801073455)\n"
          ],
          "name": "stdout"
        }
      ]
    },
    {
      "cell_type": "markdown",
      "metadata": {
        "id": "cpIVlWgS4GHy",
        "colab_type": "text"
      },
      "source": [
        "The ttest results show statistical insignficance, people did not become happier from 2012 to 2014. "
      ]
    },
    {
      "cell_type": "markdown",
      "metadata": {
        "id": "IYcUkjTBbdZ2",
        "colab_type": "text"
      },
      "source": [
        "3. Who reported watching more TV in 2012, men or women?"
      ]
    },
    {
      "cell_type": "code",
      "metadata": {
        "id": "ncp_QFkkbc5T",
        "colab_type": "code",
        "colab": {}
      },
      "source": [
        "women_tv_12 = df[(df.gndr==2) & (df.year==6)]['tvtot']\n",
        "men_tv_12 = df[(df.gndr==1) & (df.year==6)]['tvtot']"
      ],
      "execution_count": 0,
      "outputs": []
    },
    {
      "cell_type": "code",
      "metadata": {
        "id": "X1uKUmC5cqmp",
        "colab_type": "code",
        "outputId": "d6af1cf7-753d-4709-901c-57e291271e53",
        "colab": {
          "base_uri": "https://localhost:8080/",
          "height": 34
        }
      },
      "source": [
        "print(stats.ttest_ind(women_tv_12,men_tv_12))"
      ],
      "execution_count": 16,
      "outputs": [
        {
          "output_type": "stream",
          "text": [
            "Ttest_indResult(statistic=0.7323552192640558, pvalue=0.4639939646110154)\n"
          ],
          "name": "stdout"
        }
      ]
    },
    {
      "cell_type": "markdown",
      "metadata": {
        "id": "eCsAtrQojHpC",
        "colab_type": "text"
      },
      "source": [
        "No difference - Boh men and women reported about the same amount spent of time on watching Tv.\n",
        "\n",
        "\n"
      ]
    },
    {
      "cell_type": "markdown",
      "metadata": {
        "id": "IuH1SlHclVe_",
        "colab_type": "text"
      },
      "source": [
        "4. Who was more likely to believe people were fair in 2012, people living with a partner or people living alone?"
      ]
    },
    {
      "cell_type": "code",
      "metadata": {
        "id": "Y4LoFsSQlVFr",
        "colab_type": "code",
        "colab": {}
      },
      "source": [
        "fair_partner_12 = df[(df.year==6) & (df.partner==1)]['pplfair']\n",
        "fair_nopart_12 = df[(df.year==6)&(df.partner==2)]['pplfair']"
      ],
      "execution_count": 0,
      "outputs": []
    },
    {
      "cell_type": "code",
      "metadata": {
        "id": "JUvsQvBbmcJy",
        "colab_type": "code",
        "outputId": "24989d6d-8a3d-4e90-928c-7a02b20ceebf",
        "colab": {
          "base_uri": "https://localhost:8080/",
          "height": 34
        }
      },
      "source": [
        "print(stats.ttest_ind(fair_partner_12,fair_nopart_12))"
      ],
      "execution_count": 18,
      "outputs": [
        {
          "output_type": "stream",
          "text": [
            "Ttest_indResult(statistic=3.0430439318464235, pvalue=0.002356936676939248)\n"
          ],
          "name": "stdout"
        }
      ]
    },
    {
      "cell_type": "code",
      "metadata": {
        "id": "xCp9lGN55lO6",
        "colab_type": "code",
        "colab": {
          "base_uri": "https://localhost:8080/",
          "height": 51
        },
        "outputId": "77a83161-5d1b-49f2-ba3b-2d82b9d217bf"
      },
      "source": [
        "print(fair_partner_12.mean())\n",
        "print(fair_nopart_12.mean())"
      ],
      "execution_count": 23,
      "outputs": [
        {
          "output_type": "stream",
          "text": [
            "6.0743509047993705\n",
            "5.86592544146501\n"
          ],
          "name": "stdout"
        }
      ]
    },
    {
      "cell_type": "markdown",
      "metadata": {
        "id": "ICNcGCIb5-XP",
        "colab_type": "text"
      },
      "source": [
        "People living with a partner were more likely to believe that people were fair in 2012."
      ]
    },
    {
      "cell_type": "markdown",
      "metadata": {
        "id": "p3FeoRSJmqy2",
        "colab_type": "text"
      },
      "source": [
        "5. Pick three or four of the countries in the sample and compare how often people met socially in 2014. Are there differences, and if so, which countries stand out?"
      ]
    },
    {
      "cell_type": "code",
      "metadata": {
        "id": "ffvxqS26muW4",
        "colab_type": "code",
        "colab": {}
      },
      "source": [
        "ES_sclact = df[(df.year==7) & (df.cntry=='ES')]['sclact']\n",
        "NO_sclact = df[(df.year==7) &(df.cntry=='NO')]['sclact']\n",
        "SE_sclact = df[(df.year==7) & (df.cntry=='SE')]['sclact']"
      ],
      "execution_count": 0,
      "outputs": []
    },
    {
      "cell_type": "code",
      "metadata": {
        "id": "EgfcL6pX6Pom",
        "colab_type": "code",
        "colab": {
          "base_uri": "https://localhost:8080/",
          "height": 68
        },
        "outputId": "150d18fa-2cc5-42fe-fb0a-1e20dd79c8b2"
      },
      "source": [
        "print((ES_sclact).mean())\n",
        "print((NO_sclact).mean())\n",
        "print((SE_sclact).mean())"
      ],
      "execution_count": 26,
      "outputs": [
        {
          "output_type": "stream",
          "text": [
            "2.631393298059965\n",
            "2.860955056179775\n",
            "2.878892733564014\n"
          ],
          "name": "stdout"
        }
      ]
    },
    {
      "cell_type": "code",
      "metadata": {
        "id": "4JfUK08s8IPO",
        "colab_type": "code",
        "outputId": "687ab2c7-9651-45e2-950f-e58dd382ebe5",
        "colab": {
          "base_uri": "https://localhost:8080/",
          "height": 34
        }
      },
      "source": [
        "print(stats.f_oneway(ES_sclact, NO_sclact, SE_sclact))"
      ],
      "execution_count": 20,
      "outputs": [
        {
          "output_type": "stream",
          "text": [
            "F_onewayResult(statistic=23.994028014859204, pvalue=4.685034666506116e-11)\n"
          ],
          "name": "stdout"
        }
      ]
    },
    {
      "cell_type": "markdown",
      "metadata": {
        "id": "xY0TIEZd6jwJ",
        "colab_type": "text"
      },
      "source": [
        "There's no difference among the countries and how they compared in their social activity levels in 2014. "
      ]
    },
    {
      "cell_type": "markdown",
      "metadata": {
        "id": "SisV2XFlCsfT",
        "colab_type": "text"
      },
      "source": [
        "6) Pick three or four of the countries in the sample and compare how often people took part in social activities, relative to others their age, in 2014. Are there differences, and if so, which countries stand out?"
      ]
    },
    {
      "cell_type": "markdown",
      "metadata": {
        "id": "J5E7qhcijw1g",
        "colab_type": "text"
      },
      "source": [
        "can create age categories for comparison, slice data frame into groups - young, middle age, seniors "
      ]
    },
    {
      "cell_type": "code",
      "metadata": {
        "id": "6tEoBw1O-p9G",
        "colab_type": "code",
        "colab": {
          "base_uri": "https://localhost:8080/",
          "height": 439
        },
        "outputId": "ab73910f-e334-4f98-932a-7d9c8df545dc"
      },
      "source": [
        "#create age groups 16-60 \n",
        "#young_ad <=29\n",
        "#adult >=30\n",
        "df['age_cat'] = df['agea'].apply(lambda x: 'ya' if x<=30 else 'adult')\n",
        "df"
      ],
      "execution_count": 101,
      "outputs": [
        {
          "output_type": "execute_result",
          "data": {
            "text/html": [
              "<div>\n",
              "<style scoped>\n",
              "    .dataframe tbody tr th:only-of-type {\n",
              "        vertical-align: middle;\n",
              "    }\n",
              "\n",
              "    .dataframe tbody tr th {\n",
              "        vertical-align: top;\n",
              "    }\n",
              "\n",
              "    .dataframe thead th {\n",
              "        text-align: right;\n",
              "    }\n",
              "</style>\n",
              "<table border=\"1\" class=\"dataframe\">\n",
              "  <thead>\n",
              "    <tr style=\"text-align: right;\">\n",
              "      <th></th>\n",
              "      <th>cntry</th>\n",
              "      <th>idno</th>\n",
              "      <th>year</th>\n",
              "      <th>tvtot</th>\n",
              "      <th>ppltrst</th>\n",
              "      <th>pplfair</th>\n",
              "      <th>pplhlp</th>\n",
              "      <th>happy</th>\n",
              "      <th>sclmeet</th>\n",
              "      <th>sclact</th>\n",
              "      <th>gndr</th>\n",
              "      <th>agea</th>\n",
              "      <th>partner</th>\n",
              "      <th>age_cat</th>\n",
              "    </tr>\n",
              "  </thead>\n",
              "  <tbody>\n",
              "    <tr>\n",
              "      <th>0</th>\n",
              "      <td>CH</td>\n",
              "      <td>5.0</td>\n",
              "      <td>6</td>\n",
              "      <td>3.0</td>\n",
              "      <td>3.0</td>\n",
              "      <td>10.0</td>\n",
              "      <td>5.0</td>\n",
              "      <td>8.0</td>\n",
              "      <td>5.0</td>\n",
              "      <td>4.0</td>\n",
              "      <td>2.0</td>\n",
              "      <td>60.0</td>\n",
              "      <td>1.0</td>\n",
              "      <td>adult</td>\n",
              "    </tr>\n",
              "    <tr>\n",
              "      <th>1</th>\n",
              "      <td>CH</td>\n",
              "      <td>25.0</td>\n",
              "      <td>6</td>\n",
              "      <td>6.0</td>\n",
              "      <td>5.0</td>\n",
              "      <td>7.0</td>\n",
              "      <td>5.0</td>\n",
              "      <td>9.0</td>\n",
              "      <td>3.0</td>\n",
              "      <td>2.0</td>\n",
              "      <td>2.0</td>\n",
              "      <td>59.0</td>\n",
              "      <td>1.0</td>\n",
              "      <td>adult</td>\n",
              "    </tr>\n",
              "    <tr>\n",
              "      <th>2</th>\n",
              "      <td>CH</td>\n",
              "      <td>26.0</td>\n",
              "      <td>6</td>\n",
              "      <td>1.0</td>\n",
              "      <td>8.0</td>\n",
              "      <td>8.0</td>\n",
              "      <td>8.0</td>\n",
              "      <td>7.0</td>\n",
              "      <td>6.0</td>\n",
              "      <td>3.0</td>\n",
              "      <td>1.0</td>\n",
              "      <td>24.0</td>\n",
              "      <td>2.0</td>\n",
              "      <td>ya</td>\n",
              "    </tr>\n",
              "    <tr>\n",
              "      <th>3</th>\n",
              "      <td>CH</td>\n",
              "      <td>28.0</td>\n",
              "      <td>6</td>\n",
              "      <td>4.0</td>\n",
              "      <td>6.0</td>\n",
              "      <td>6.0</td>\n",
              "      <td>7.0</td>\n",
              "      <td>10.0</td>\n",
              "      <td>6.0</td>\n",
              "      <td>2.0</td>\n",
              "      <td>2.0</td>\n",
              "      <td>64.0</td>\n",
              "      <td>1.0</td>\n",
              "      <td>adult</td>\n",
              "    </tr>\n",
              "    <tr>\n",
              "      <th>4</th>\n",
              "      <td>CH</td>\n",
              "      <td>29.0</td>\n",
              "      <td>6</td>\n",
              "      <td>5.0</td>\n",
              "      <td>6.0</td>\n",
              "      <td>7.0</td>\n",
              "      <td>5.0</td>\n",
              "      <td>8.0</td>\n",
              "      <td>7.0</td>\n",
              "      <td>2.0</td>\n",
              "      <td>2.0</td>\n",
              "      <td>55.0</td>\n",
              "      <td>1.0</td>\n",
              "      <td>adult</td>\n",
              "    </tr>\n",
              "    <tr>\n",
              "      <th>...</th>\n",
              "      <td>...</td>\n",
              "      <td>...</td>\n",
              "      <td>...</td>\n",
              "      <td>...</td>\n",
              "      <td>...</td>\n",
              "      <td>...</td>\n",
              "      <td>...</td>\n",
              "      <td>...</td>\n",
              "      <td>...</td>\n",
              "      <td>...</td>\n",
              "      <td>...</td>\n",
              "      <td>...</td>\n",
              "      <td>...</td>\n",
              "      <td>...</td>\n",
              "    </tr>\n",
              "    <tr>\n",
              "      <th>8589</th>\n",
              "      <td>SE</td>\n",
              "      <td>3729.0</td>\n",
              "      <td>7</td>\n",
              "      <td>3.0</td>\n",
              "      <td>4.0</td>\n",
              "      <td>5.0</td>\n",
              "      <td>3.0</td>\n",
              "      <td>6.0</td>\n",
              "      <td>6.0</td>\n",
              "      <td>2.0</td>\n",
              "      <td>1.0</td>\n",
              "      <td>18.0</td>\n",
              "      <td>2.0</td>\n",
              "      <td>ya</td>\n",
              "    </tr>\n",
              "    <tr>\n",
              "      <th>8590</th>\n",
              "      <td>SE</td>\n",
              "      <td>3732.0</td>\n",
              "      <td>7</td>\n",
              "      <td>5.0</td>\n",
              "      <td>6.0</td>\n",
              "      <td>4.0</td>\n",
              "      <td>4.0</td>\n",
              "      <td>10.0</td>\n",
              "      <td>6.0</td>\n",
              "      <td>3.0</td>\n",
              "      <td>1.0</td>\n",
              "      <td>15.0</td>\n",
              "      <td>2.0</td>\n",
              "      <td>ya</td>\n",
              "    </tr>\n",
              "    <tr>\n",
              "      <th>8591</th>\n",
              "      <td>SE</td>\n",
              "      <td>3743.0</td>\n",
              "      <td>7</td>\n",
              "      <td>4.0</td>\n",
              "      <td>5.0</td>\n",
              "      <td>7.0</td>\n",
              "      <td>6.0</td>\n",
              "      <td>8.0</td>\n",
              "      <td>6.0</td>\n",
              "      <td>3.0</td>\n",
              "      <td>1.0</td>\n",
              "      <td>44.0</td>\n",
              "      <td>2.0</td>\n",
              "      <td>adult</td>\n",
              "    </tr>\n",
              "    <tr>\n",
              "      <th>8592</th>\n",
              "      <td>SE</td>\n",
              "      <td>3744.0</td>\n",
              "      <td>7</td>\n",
              "      <td>5.0</td>\n",
              "      <td>8.0</td>\n",
              "      <td>8.0</td>\n",
              "      <td>6.0</td>\n",
              "      <td>9.0</td>\n",
              "      <td>7.0</td>\n",
              "      <td>3.0</td>\n",
              "      <td>1.0</td>\n",
              "      <td>15.0</td>\n",
              "      <td>2.0</td>\n",
              "      <td>ya</td>\n",
              "    </tr>\n",
              "    <tr>\n",
              "      <th>8593</th>\n",
              "      <td>SE</td>\n",
              "      <td>3746.0</td>\n",
              "      <td>7</td>\n",
              "      <td>2.0</td>\n",
              "      <td>6.0</td>\n",
              "      <td>7.0</td>\n",
              "      <td>5.0</td>\n",
              "      <td>7.0</td>\n",
              "      <td>7.0</td>\n",
              "      <td>4.0</td>\n",
              "      <td>2.0</td>\n",
              "      <td>15.0</td>\n",
              "      <td>2.0</td>\n",
              "      <td>ya</td>\n",
              "    </tr>\n",
              "  </tbody>\n",
              "</table>\n",
              "<p>8147 rows × 14 columns</p>\n",
              "</div>"
            ],
            "text/plain": [
              "     cntry    idno  year  tvtot  ppltrst  ...  sclact  gndr  agea  partner  age_cat\n",
              "0       CH     5.0     6    3.0      3.0  ...     4.0   2.0  60.0      1.0    adult\n",
              "1       CH    25.0     6    6.0      5.0  ...     2.0   2.0  59.0      1.0    adult\n",
              "2       CH    26.0     6    1.0      8.0  ...     3.0   1.0  24.0      2.0       ya\n",
              "3       CH    28.0     6    4.0      6.0  ...     2.0   2.0  64.0      1.0    adult\n",
              "4       CH    29.0     6    5.0      6.0  ...     2.0   2.0  55.0      1.0    adult\n",
              "...    ...     ...   ...    ...      ...  ...     ...   ...   ...      ...      ...\n",
              "8589    SE  3729.0     7    3.0      4.0  ...     2.0   1.0  18.0      2.0       ya\n",
              "8590    SE  3732.0     7    5.0      6.0  ...     3.0   1.0  15.0      2.0       ya\n",
              "8591    SE  3743.0     7    4.0      5.0  ...     3.0   1.0  44.0      2.0    adult\n",
              "8592    SE  3744.0     7    5.0      8.0  ...     3.0   1.0  15.0      2.0       ya\n",
              "8593    SE  3746.0     7    2.0      6.0  ...     4.0   2.0  15.0      2.0       ya\n",
              "\n",
              "[8147 rows x 14 columns]"
            ]
          },
          "metadata": {
            "tags": []
          },
          "execution_count": 101
        }
      ]
    },
    {
      "cell_type": "code",
      "metadata": {
        "id": "VZu6QlIGCrjf",
        "colab_type": "code",
        "colab": {}
      },
      "source": [
        "ES_sclact_ya = df[(df.year==7) & (df.cntry=='ES') & (df.age_cat=='ya')]['sclact']\n",
        "ES_sclact_adult = df[(df.year==7) & (df.cntry=='ES') & (df.age_cat=='adult')]['sclact']\n",
        "NO_sclact_ya = df[(df.year==7) & (df.cntry=='NO') & (df.age_cat=='ya')]['sclact']\n",
        "NO_sclact_adult = df[(df.year==7) & (df.cntry=='NO') & (df.age_cat=='adult')]['sclact']\n",
        "SE_sclact_ya = df[(df.year==7) & (df.cntry=='SE') & (df.age_cat=='ya')]['sclact']\n",
        "SE_sclact_adult = df[(df.year==7) & (df.cntry=='SE') & (df.age_cat=='adult')]['sclact']\n",
        "CH_sclact_ya = df[(df.year==7) & (df.cntry=='CH') & (df.age_cat=='ya')]['sclact']\n",
        "CH_sclact_adult = df[(df.year==7) & (df.cntry=='CH') & (df.age_cat=='adult')]['sclact']\n"
      ],
      "execution_count": 0,
      "outputs": []
    },
    {
      "cell_type": "code",
      "metadata": {
        "id": "HhFuSF5OFBYY",
        "colab_type": "code",
        "colab": {
          "base_uri": "https://localhost:8080/",
          "height": 85
        },
        "outputId": "9a466aeb-ce9d-4267-f70f-474df91c66f4"
      },
      "source": [
        "#means of age group by country \n",
        "#ya results and one-anova test \n",
        "print((ES_sclact_ya).mean())\n",
        "print((NO_sclact_ya).mean())\n",
        "print((SE_sclact_ya).mean())\n",
        "print((CH_sclact_ya).mean())"
      ],
      "execution_count": 116,
      "outputs": [
        {
          "output_type": "stream",
          "text": [
            "2.7304347826086954\n",
            "2.95679012345679\n",
            "2.909090909090909\n",
            "2.8125\n"
          ],
          "name": "stdout"
        }
      ]
    },
    {
      "cell_type": "code",
      "metadata": {
        "id": "XlsIMGrrFozA",
        "colab_type": "code",
        "colab": {
          "base_uri": "https://localhost:8080/",
          "height": 34
        },
        "outputId": "1da0e0fc-d085-400e-bd1c-219307649c28"
      },
      "source": [
        "print(stats.f_oneway(ES_sclact_ya, NO_sclact_ya, SE_sclact_ya, CH_sclact_ya))"
      ],
      "execution_count": 117,
      "outputs": [
        {
          "output_type": "stream",
          "text": [
            "F_onewayResult(statistic=2.6862265673842924, pvalue=0.04556704739794114)\n"
          ],
          "name": "stdout"
        }
      ]
    },
    {
      "cell_type": "markdown",
      "metadata": {
        "id": "oaX0YD3GF09I",
        "colab_type": "text"
      },
      "source": [
        "There are differences. Young adults in Norway and Sweden recorder higher avg of social activity levels than those in Switzerand and Spain."
      ]
    },
    {
      "cell_type": "code",
      "metadata": {
        "id": "ftv5nm7eFi4u",
        "colab_type": "code",
        "colab": {
          "base_uri": "https://localhost:8080/",
          "height": 85
        },
        "outputId": "ea2ebe48-491a-421b-a9cd-e2e6ee082790"
      },
      "source": [
        "print((ES_sclact_adult).mean())\n",
        "print((NO_sclact_adult).mean())\n",
        "print((SE_sclact_adult).mean())\n",
        "print((CH_sclact_adult).mean())"
      ],
      "execution_count": 118,
      "outputs": [
        {
          "output_type": "stream",
          "text": [
            "2.606194690265487\n",
            "2.8327272727272725\n",
            "2.8699551569506725\n",
            "2.7760141093474426\n"
          ],
          "name": "stdout"
        }
      ]
    },
    {
      "cell_type": "code",
      "metadata": {
        "id": "IqTN2VUQFAaa",
        "colab_type": "code",
        "colab": {
          "base_uri": "https://localhost:8080/",
          "height": 34
        },
        "outputId": "8f91615d-1686-47f4-e020-176f2049bb2b"
      },
      "source": [
        "print(stats.f_oneway(ES_sclact_adult, NO_sclact_adult, SE_sclact_adult, CH_sclact_adult))"
      ],
      "execution_count": 119,
      "outputs": [
        {
          "output_type": "stream",
          "text": [
            "F_onewayResult(statistic=13.338710052425402, pvalue=1.2165566048514565e-08)\n"
          ],
          "name": "stdout"
        }
      ]
    },
    {
      "cell_type": "markdown",
      "metadata": {
        "id": "8DDiVMa7GSe9",
        "colab_type": "text"
      },
      "source": [
        "The difference is not statistically significant. While it seems that adults in Sweden and Norway report higher levels of social activties they are not much different from the other two countries. "
      ]
    },
    {
      "cell_type": "markdown",
      "metadata": {
        "id": "FoU150kYAOzr",
        "colab_type": "text"
      },
      "source": [
        ""
      ]
    }
  ]
}