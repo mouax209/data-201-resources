{
  "nbformat": 4,
  "nbformat_minor": 0,
  "metadata": {
    "colab": {
      "name": "web scraping exercise 1.ipynb",
      "provenance": [],
      "collapsed_sections": [],
      "include_colab_link": true
    },
    "kernelspec": {
      "name": "python3",
      "display_name": "Python 3"
    }
  },
  "cells": [
    {
      "cell_type": "markdown",
      "metadata": {
        "id": "view-in-github",
        "colab_type": "text"
      },
      "source": [
        "<a href=\"https://colab.research.google.com/github/mouax209/data-201-resources/blob/master/web_scraping_exercise_1.ipynb\" target=\"_parent\"><img src=\"https://colab.research.google.com/assets/colab-badge.svg\" alt=\"Open In Colab\"/></a>"
      ]
    },
    {
      "cell_type": "markdown",
      "metadata": {
        "id": "J7wFVVOAIVQ2",
        "colab_type": "text"
      },
      "source": [
        "Web scraping first 99 Favorite Travel Books list from goodreads.com. \n"
      ]
    },
    {
      "cell_type": "code",
      "metadata": {
        "id": "oUGoO4-lqRt3",
        "colab_type": "code",
        "colab": {}
      },
      "source": [
        "#import libraries\n",
        "from urllib.request import urlopen as url_req\n",
        "import requests\n",
        "import lxml.html as lh\n",
        "import pandas as pd\n",
        "from bs4 import BeautifulSoup "
      ],
      "execution_count": 20,
      "outputs": []
    },
    {
      "cell_type": "code",
      "metadata": {
        "id": "Qh9VaOWwqY5p",
        "colab_type": "code",
        "colab": {}
      },
      "source": [
        "#create request\n",
        "url = 'https://www.goodreads.com/list/show/633.Favourite_Travel_Books'\n",
        "page = requests.get(url)\n",
        "doc = lh.fromstring(page.content)"
      ],
      "execution_count": 2,
      "outputs": []
    },
    {
      "cell_type": "code",
      "metadata": {
        "id": "p4Oa6vjNranT",
        "colab_type": "code",
        "colab": {}
      },
      "source": [
        "#identify in html the pertinent elements \n",
        "tr_elements = doc.xpath('//tr')"
      ],
      "execution_count": 3,
      "outputs": []
    },
    {
      "cell_type": "code",
      "metadata": {
        "id": "del7RLCGr5KH",
        "colab_type": "code",
        "colab": {
          "base_uri": "https://localhost:8080/",
          "height": 71
        },
        "outputId": "235d6d71-ef6c-40db-8927-594e3031eb3c"
      },
      "source": [
        "#create for loop to extract data and only take variables with information, there are no headers\n",
        "tr_elements = doc.xpath('//tr')\n",
        "#Create empty list\n",
        "col=[]\n",
        "i=0\n",
        "#For each row, store each first element (header) and an empty list\n",
        "for t in tr_elements[0][0::2]:\n",
        "    i+=1\n",
        "    name=t.text_content().replace('\\n',\" \").split()\n",
        "    print('%d:\"%s\"'%(i,name))\n",
        "    col.append((name,[]))\n",
        "\n",
        "#1 is ranking \n",
        "#2 is title of book, author, rating score and number of votes "
      ],
      "execution_count": 54,
      "outputs": [
        {
          "output_type": "stream",
          "text": [
            "1:\"['1']\"\n",
            "2:\"['A', 'Walk', 'in', 'the', 'Woods:', 'Rediscovering', 'America', 'on', 'the', 'Appalachian', 'Trail', 'by', 'Bill', 'Bryson', '4.06', 'avg', 'rating', '—', '338,511', 'ratings', 'score:', '66,134,', 'and', '669', 'people', 'voted']\"\n"
          ],
          "name": "stdout"
        }
      ]
    },
    {
      "cell_type": "code",
      "metadata": {
        "id": "taP-euzQ-esp",
        "colab_type": "code",
        "colab": {
          "base_uri": "https://localhost:8080/",
          "height": 54
        },
        "outputId": "af0a2b07-7c63-4b98-db1c-7e40b3399bf4"
      },
      "source": [
        "import json\n",
        "f = open('output.json', 'w')\n",
        "#f.write(json.dumps(all_jobs)) # all in one line\n",
        "f.write(json.dumps(col))\n",
        "f.close()\n",
        "print(json.dumps(col))"
      ],
      "execution_count": 92,
      "outputs": [
        {
          "output_type": "stream",
          "text": [
            "[[[\"1\"], []], [[\"A\", \"Walk\", \"in\", \"the\", \"Woods:\", \"Rediscovering\", \"America\", \"on\", \"the\", \"Appalachian\", \"Trail\", \"by\", \"Bill\", \"Bryson\", \"4.06\", \"avg\", \"rating\", \"\\u2014\", \"338,511\", \"ratings\", \"score:\", \"66,134,\", \"and\", \"669\", \"people\", \"voted\"], []]]\n"
          ],
          "name": "stdout"
        }
      ]
    }
  ]
}